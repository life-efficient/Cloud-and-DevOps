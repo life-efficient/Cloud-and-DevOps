{
 "cells": [
  {
   "cell_type": "markdown",
   "source": [
    "# AWS CloudWatch\r\n",
    "\r\n",
    "AWS CloudWatch is the monitoring and observability hub which will provide your data and insights into all your AWS services"
   ],
   "metadata": {}
  }
 ],
 "metadata": {
  "orig_nbformat": 4,
  "language_info": {
   "name": "python"
  }
 },
 "nbformat": 4,
 "nbformat_minor": 2
}